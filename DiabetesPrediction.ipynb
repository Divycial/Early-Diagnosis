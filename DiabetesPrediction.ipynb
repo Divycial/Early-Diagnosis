{
 "cells": [
  {
   "cell_type": "markdown",
   "id": "673c9c0f",
   "metadata": {},
   "source": [
    "# Importing libraries"
   ]
  },
  {
   "cell_type": "code",
   "execution_count": 1,
   "id": "8c71595e",
   "metadata": {},
   "outputs": [],
   "source": [
    "import pandas as pd\n",
    "import numpy as np\n",
    "import matplotlib.pyplot as plt\n",
    "import seaborn as sns\n",
    "import warnings\n",
    "warnings.filterwarnings('ignore')\n",
    "%matplotlib inline"
   ]
  },
  {
   "cell_type": "markdown",
   "id": "a874b0be",
   "metadata": {},
   "source": [
    "# Reading Data"
   ]
  },
  {
   "cell_type": "code",
   "execution_count": 6,
   "id": "30b0e622",
   "metadata": {},
   "outputs": [
    {
     "data": {
      "text/html": [
       "<div>\n",
       "<style scoped>\n",
       "    .dataframe tbody tr th:only-of-type {\n",
       "        vertical-align: middle;\n",
       "    }\n",
       "\n",
       "    .dataframe tbody tr th {\n",
       "        vertical-align: top;\n",
       "    }\n",
       "\n",
       "    .dataframe thead th {\n",
       "        text-align: right;\n",
       "    }\n",
       "</style>\n",
       "<table border=\"1\" class=\"dataframe\">\n",
       "  <thead>\n",
       "    <tr style=\"text-align: right;\">\n",
       "      <th></th>\n",
       "      <th>age</th>\n",
       "      <th>gender</th>\n",
       "      <th>polyuria</th>\n",
       "      <th>polydipsia</th>\n",
       "      <th>sudden_weight_loss</th>\n",
       "      <th>weakness</th>\n",
       "      <th>polyphagia</th>\n",
       "      <th>genital_thrush</th>\n",
       "      <th>visual_blurring</th>\n",
       "      <th>itching</th>\n",
       "      <th>irritability</th>\n",
       "      <th>delayed_healing</th>\n",
       "      <th>partial_paresis</th>\n",
       "      <th>muscle_stiffness</th>\n",
       "      <th>alopecia</th>\n",
       "      <th>obesity</th>\n",
       "      <th>class</th>\n",
       "    </tr>\n",
       "  </thead>\n",
       "  <tbody>\n",
       "    <tr>\n",
       "      <th>0</th>\n",
       "      <td>40</td>\n",
       "      <td>Male</td>\n",
       "      <td>0</td>\n",
       "      <td>1</td>\n",
       "      <td>0</td>\n",
       "      <td>1</td>\n",
       "      <td>0</td>\n",
       "      <td>0</td>\n",
       "      <td>0</td>\n",
       "      <td>1</td>\n",
       "      <td>0</td>\n",
       "      <td>1</td>\n",
       "      <td>0</td>\n",
       "      <td>1</td>\n",
       "      <td>1</td>\n",
       "      <td>1</td>\n",
       "      <td>1</td>\n",
       "    </tr>\n",
       "    <tr>\n",
       "      <th>1</th>\n",
       "      <td>58</td>\n",
       "      <td>Male</td>\n",
       "      <td>0</td>\n",
       "      <td>0</td>\n",
       "      <td>0</td>\n",
       "      <td>1</td>\n",
       "      <td>0</td>\n",
       "      <td>0</td>\n",
       "      <td>1</td>\n",
       "      <td>0</td>\n",
       "      <td>0</td>\n",
       "      <td>0</td>\n",
       "      <td>1</td>\n",
       "      <td>0</td>\n",
       "      <td>1</td>\n",
       "      <td>0</td>\n",
       "      <td>1</td>\n",
       "    </tr>\n",
       "    <tr>\n",
       "      <th>2</th>\n",
       "      <td>41</td>\n",
       "      <td>Male</td>\n",
       "      <td>1</td>\n",
       "      <td>0</td>\n",
       "      <td>0</td>\n",
       "      <td>1</td>\n",
       "      <td>1</td>\n",
       "      <td>0</td>\n",
       "      <td>0</td>\n",
       "      <td>1</td>\n",
       "      <td>0</td>\n",
       "      <td>1</td>\n",
       "      <td>0</td>\n",
       "      <td>1</td>\n",
       "      <td>1</td>\n",
       "      <td>0</td>\n",
       "      <td>1</td>\n",
       "    </tr>\n",
       "    <tr>\n",
       "      <th>3</th>\n",
       "      <td>45</td>\n",
       "      <td>Male</td>\n",
       "      <td>0</td>\n",
       "      <td>0</td>\n",
       "      <td>1</td>\n",
       "      <td>1</td>\n",
       "      <td>1</td>\n",
       "      <td>1</td>\n",
       "      <td>0</td>\n",
       "      <td>1</td>\n",
       "      <td>0</td>\n",
       "      <td>1</td>\n",
       "      <td>0</td>\n",
       "      <td>0</td>\n",
       "      <td>0</td>\n",
       "      <td>0</td>\n",
       "      <td>1</td>\n",
       "    </tr>\n",
       "    <tr>\n",
       "      <th>4</th>\n",
       "      <td>60</td>\n",
       "      <td>Male</td>\n",
       "      <td>1</td>\n",
       "      <td>1</td>\n",
       "      <td>1</td>\n",
       "      <td>1</td>\n",
       "      <td>1</td>\n",
       "      <td>0</td>\n",
       "      <td>1</td>\n",
       "      <td>1</td>\n",
       "      <td>1</td>\n",
       "      <td>1</td>\n",
       "      <td>1</td>\n",
       "      <td>1</td>\n",
       "      <td>1</td>\n",
       "      <td>1</td>\n",
       "      <td>1</td>\n",
       "    </tr>\n",
       "  </tbody>\n",
       "</table>\n",
       "</div>"
      ],
      "text/plain": [
       "   age gender  polyuria  polydipsia  sudden_weight_loss  weakness  polyphagia  \\\n",
       "0   40   Male         0           1                   0         1           0   \n",
       "1   58   Male         0           0                   0         1           0   \n",
       "2   41   Male         1           0                   0         1           1   \n",
       "3   45   Male         0           0                   1         1           1   \n",
       "4   60   Male         1           1                   1         1           1   \n",
       "\n",
       "   genital_thrush  visual_blurring  itching  irritability  delayed_healing  \\\n",
       "0               0                0        1             0                1   \n",
       "1               0                1        0             0                0   \n",
       "2               0                0        1             0                1   \n",
       "3               1                0        1             0                1   \n",
       "4               0                1        1             1                1   \n",
       "\n",
       "   partial_paresis  muscle_stiffness  alopecia  obesity  class  \n",
       "0                0                 1         1        1      1  \n",
       "1                1                 0         1        0      1  \n",
       "2                0                 1         1        0      1  \n",
       "3                0                 0         0        0      1  \n",
       "4                1                 1         1        1      1  "
      ]
     },
     "execution_count": 6,
     "metadata": {},
     "output_type": "execute_result"
    }
   ],
   "source": [
    "df = pd.read_csv('diabetes_data.csv', delimiter = ';')\n",
    "\n",
    "df.head()"
   ]
  },
  {
   "cell_type": "markdown",
   "id": "e870249b",
   "metadata": {},
   "source": [
    "**This dataset has 17 columns, out of which 16 are going to be our independent variables while the variable - class is our target variable**<br>\n",
    "Some of the uncommon columns :\n",
    "* polyuria : Whether the patient experienced excessive urination or not.\n",
    "* polydispia : Whether the patient experienced excessive thirst/excess drinking or not.\n",
    "* polyphagia : Whether patient had an episode of excessive/extreme hunger or not."
   ]
  },
  {
   "cell_type": "code",
   "execution_count": 7,
   "id": "ee34ac8c",
   "metadata": {},
   "outputs": [
    {
     "data": {
      "text/plain": [
       "(520, 17)"
      ]
     },
     "execution_count": 7,
     "metadata": {},
     "output_type": "execute_result"
    }
   ],
   "source": [
    "df.shape"
   ]
  },
  {
   "cell_type": "markdown",
   "id": "0d9347d0",
   "metadata": {},
   "source": [
    "**This dataset has 520 unique samples**"
   ]
  },
  {
   "cell_type": "code",
   "execution_count": 8,
   "id": "26790a09",
   "metadata": {},
   "outputs": [
    {
     "data": {
      "text/plain": [
       "age                    int64\n",
       "gender                object\n",
       "polyuria               int64\n",
       "polydipsia             int64\n",
       "sudden_weight_loss     int64\n",
       "weakness               int64\n",
       "polyphagia             int64\n",
       "genital_thrush         int64\n",
       "visual_blurring        int64\n",
       "itching                int64\n",
       "irritability           int64\n",
       "delayed_healing        int64\n",
       "partial_paresis        int64\n",
       "muscle_stiffness       int64\n",
       "alopecia               int64\n",
       "obesity                int64\n",
       "class                  int64\n",
       "dtype: object"
      ]
     },
     "execution_count": 8,
     "metadata": {},
     "output_type": "execute_result"
    }
   ],
   "source": [
    "df.dtypes"
   ]
  },
  {
   "cell_type": "markdown",
   "id": "48687943",
   "metadata": {},
   "source": [
    "**The data types of all the columns are correct.**"
   ]
  },
  {
   "cell_type": "code",
   "execution_count": 10,
   "id": "f8c204ca",
   "metadata": {},
   "outputs": [
    {
     "data": {
      "text/plain": [
       "age                   0\n",
       "gender                0\n",
       "polyuria              0\n",
       "polydipsia            0\n",
       "sudden_weight_loss    0\n",
       "weakness              0\n",
       "polyphagia            0\n",
       "genital_thrush        0\n",
       "visual_blurring       0\n",
       "itching               0\n",
       "irritability          0\n",
       "delayed_healing       0\n",
       "partial_paresis       0\n",
       "muscle_stiffness      0\n",
       "alopecia              0\n",
       "obesity               0\n",
       "class                 0\n",
       "dtype: int64"
      ]
     },
     "execution_count": 10,
     "metadata": {},
     "output_type": "execute_result"
    }
   ],
   "source": [
    "df.isnull().sum()"
   ]
  },
  {
   "cell_type": "markdown",
   "id": "526235ea",
   "metadata": {},
   "source": [
    "**There are no missing values in the dataset**"
   ]
  },
  {
   "cell_type": "markdown",
   "id": "05a91259",
   "metadata": {},
   "source": [
    "# Exploratory Data Analysis"
   ]
  },
  {
   "cell_type": "markdown",
   "id": "3af5c970",
   "metadata": {},
   "source": [
    "## Univariate analysis"
   ]
  },
  {
   "cell_type": "code",
   "execution_count": 12,
   "id": "84685e1d",
   "metadata": {},
   "outputs": [],
   "source": [
    "def univariate_kde(df, column):\n",
    "    '''\n",
    "    Calculates the descriptives and displays a kdeplot to observe distribution of data.\n",
    "    '''\n",
    "    plt.figure(figsize = (7 , 5))\n",
    "    \n",
    "    # Descriptives\n",
    "    mini = df[column].min()\n",
    "    maxi = df[column].max()\n",
    "    mean = df[column].mean()\n",
    "    std = df[column].std()\n",
    "    std_points = (mean - std, mean + std)\n",
    "    ran = (mini, maxi)\n",
    "    \n",
    "    #plot\n",
    "    sns.kdeplot(df[column],shade = True, label = 'distribution')\n",
    "    sns.lineplot(std_points, [0, 0],linewidth = 3, color = 'black',label = 'std_dev')\n",
    "    sns.scatterplot(mean, [0], label = 'mean', s = 75)\n",
    "    sns.scatterplot(mini, [0], label = 'min', s = 75)\n",
    "    plt.xlabel('{}'.format(column))\n",
    "    plt.ylabel('Count')\n",
    "    plt.title('mean = {}, range = {};\\nstd_dev = {};'.format(round(mean, 2), (round(ran[0], 2), round(ran[1], 2)),\n",
    "                                                            (round(std_points[0], 2), round(std_points[1], 2))))"
   ]
  },
  {
   "cell_type": "code",
   "execution_count": 24,
   "id": "1a352675",
   "metadata": {},
   "outputs": [],
   "source": [
    "def univariate_countplot(df, columns):\n",
    "    '''\n",
    "    Displays the descriptives and also the barplot of discrete variables\n",
    "    '''\n",
    "    size = len(columns)\n",
    "    plt.figure(figsize = (size * 7, 5))\n",
    "    for i, column in enumerate(columns):\n",
    "        # Descriptives\n",
    "        mode = df[column].mode()\n",
    "    \n",
    "        #plot\n",
    "        plt.subplot(1, size, i + 1)\n",
    "        sns.countplot(df[column])\n",
    "        plt.xlabel('{}'.format(column))\n",
    "        plt.ylabel('Count')\n",
    "        plt.title('mode = {}'.format(mode[0]))\n",
    "    return plt.show()"
   ]
  },
  {
   "cell_type": "code",
   "execution_count": 25,
   "id": "f870dcda",
   "metadata": {},
   "outputs": [
    {
     "data": {
      "image/png": "[encoded data removed]",
      "text/plain": [
       "<Figure size 504x360 with 1 Axes>"
      ]
     },
     "metadata": {
      "needs_background": "light"
     },
     "output_type": "display_data"
    }
   ],
   "source": [
    "univariate_kde(df, 'age')"
   ]
  },
  {
   "cell_type": "markdown",
   "id": "c0c9ab18",
   "metadata": {},
   "source": [
    "**Insights :**\n",
    "* The average age of the patients in our dataset is 48.\n",
    "* The oldest person on our dataset is 90 years old, while the youngest is 16 years old"
   ]
  },
  {
   "cell_type": "code",
   "execution_count": 35,
   "id": "b5425db7",
   "metadata": {},
   "outputs": [
    {
     "data": {
      "text/plain": [
       "<AxesSubplot:xlabel='gender', ylabel='count'>"
      ]
     },
     "execution_count": 35,
     "metadata": {},
     "output_type": "execute_result"
    },
    {
     "data": {
      "image/png": "[encoded data removed]",
      "text/plain": [
       "<Figure size 432x288 with 1 Axes>"
      ]
     },
     "metadata": {
      "needs_background": "light"
     },
     "output_type": "display_data"
    }
   ],
   "source": [
    "sns.countplot('gender', data = df)"
   ]
  },
  {
   "cell_type": "markdown",
   "id": "41eeb98d",
   "metadata": {},
   "source": [
    "**There are more males in our dataset than females**"
   ]
  },
  {
   "cell_type": "code",
   "execution_count": 27,
   "id": "72f82ae9",
   "metadata": {},
   "outputs": [
    {
     "data": {
      "image/png": "[encoded data removed]",
      "text/plain": [
       "<Figure size 1512x360 with 3 Axes>"
      ]
     },
     "metadata": {
      "needs_background": "light"
     },
     "output_type": "display_data"
    }
   ],
   "source": [
    "univariate_countplot(df, ['polyuria', 'polydipsia', 'sudden_weight_loss'])"
   ]
  },
  {
   "cell_type": "markdown",
   "id": "f12c3927",
   "metadata": {},
   "source": [
    "**Insights :**\n",
    "* As we can see from the graph, there is almost a 50-50 split in polyuria, while there are more people who did not experience polydipsia or sudden weight loss"
   ]
  },
  {
   "cell_type": "code",
   "execution_count": 29,
   "id": "cb7c54a2",
   "metadata": {},
   "outputs": [
    {
     "data": {
      "image/png": "[encoded data removed]",
      "text/plain": [
       "<Figure size 1512x360 with 3 Axes>"
      ]
     },
     "metadata": {
      "needs_background": "light"
     },
     "output_type": "display_data"
    }
   ],
   "source": [
    "univariate_countplot(df, ['weakness', 'polyphagia', 'visual_blurring'])"
   ]
  },
  {
   "cell_type": "markdown",
   "id": "d1fb08d1",
   "metadata": {},
   "source": [
    "**Insights :**\n",
    "* There are more people who have weakness.\n",
    "* There are more people who say they did not have polyphagia or visual blurring"
   ]
  },
  {
   "cell_type": "code",
   "execution_count": 31,
   "id": "17548fea",
   "metadata": {},
   "outputs": [
    {
     "data": {
      "image/png": "[encoded data removed]",
      "text/plain": [
       "<Figure size 1512x360 with 3 Axes>"
      ]
     },
     "metadata": {
      "needs_background": "light"
     },
     "output_type": "display_data"
    }
   ],
   "source": [
    "univariate_countplot(df, ['itching', 'irritability', 'muscle_stiffness'])"
   ]
  },
  {
   "cell_type": "markdown",
   "id": "1c2eb655",
   "metadata": {},
   "source": [
    "**Insights**\n",
    "* Not many people suffered from irritabilty or muscle stiffness.\n",
    "* The itching graph shows an almost 45-55 split"
   ]
  },
  {
   "cell_type": "code",
   "execution_count": 32,
   "id": "e7eacc75",
   "metadata": {},
   "outputs": [
    {
     "data": {
      "image/png": "[encoded data removed]",
      "text/plain": [
       "<Figure size 504x360 with 1 Axes>"
      ]
     },
     "metadata": {
      "needs_background": "light"
     },
     "output_type": "display_data"
    }
   ],
   "source": [
    "univariate_countplot(df, ['class'])"
   ]
  },
  {
   "cell_type": "markdown",
   "id": "58d472d8",
   "metadata": {},
   "source": [
    "**Insights :**\n",
    "* Here we can see that there are more people in our dataset who belong to the positive class (which means that they are diabetic)."
   ]
  },
  {
   "cell_type": "markdown",
   "id": "7e71a25b",
   "metadata": {},
   "source": [
    "## Bivariate Analysis"
   ]
  },
  {
   "cell_type": "code",
   "execution_count": 33,
   "id": "3e31f1ac",
   "metadata": {},
   "outputs": [],
   "source": [
    "def bivariate_countplot(df, x_var, hue_var):\n",
    "    '''\n",
    "    df -> data\n",
    "    x_var -> discrete value\n",
    "    hue_var -> categorical variable\n",
    "    '''\n",
    "    size = len(x_var)\n",
    "    plt.figure(figsize = (size * 7, 7))\n",
    "    for i, x in enumerate(x_var):\n",
    "        plt.subplot(1, size, i + 1)\n",
    "        sns.countplot(x, hue = hue_var, data = df)\n",
    "        "
   ]
  },
  {
   "cell_type": "code",
   "execution_count": 26,
   "id": "0be87a39",
   "metadata": {},
   "outputs": [
    {
     "data": {
      "text/plain": [
       "Index(['age', 'gender', 'polyuria', 'polydipsia', 'sudden_weight_loss',\n",
       "       'weakness', 'polyphagia', 'genital_thrush', 'visual_blurring',\n",
       "       'itching', 'irritability', 'delayed_healing', 'partial_paresis',\n",
       "       'muscle_stiffness', 'alopecia', 'obesity', 'class'],\n",
       "      dtype='object')"
      ]
     },
     "execution_count": 26,
     "metadata": {},
     "output_type": "execute_result"
    }
   ],
   "source": [
    "df.columns"
   ]
  },
  {
   "cell_type": "code",
   "execution_count": 36,
   "id": "fafa30fd",
   "metadata": {},
   "outputs": [
    {
     "data": {
      "image/png": "[encoded data removed]",
      "text/plain": [
       "<Figure size 504x504 with 1 Axes>"
      ]
     },
     "metadata": {
      "needs_background": "light"
     },
     "output_type": "display_data"
    }
   ],
   "source": [
    "bivariate_countplot(df, ['gender'], 'class')"
   ]
  },
  {
   "cell_type": "markdown",
   "id": "55262973",
   "metadata": {},
   "source": [
    "**Insights :**\n",
    "* From the graph we can clearly see that females are at a higher risk of diabetes than the males."
   ]
  },
  {
   "cell_type": "code",
   "execution_count": 38,
   "id": "e8372131",
   "metadata": {},
   "outputs": [
    {
     "data": {
      "image/png": "[encoded data removed]",
      "text/plain": [
       "<Figure size 1512x504 with 3 Axes>"
      ]
     },
     "metadata": {
      "needs_background": "light"
     },
     "output_type": "display_data"
    }
   ],
   "source": [
    "bivariate_countplot(df, ['polyuria', 'polydipsia', 'sudden_weight_loss'], 'gender')"
   ]
  },
  {
   "cell_type": "markdown",
   "id": "dba85857",
   "metadata": {},
   "source": [
    "**Insights :**\n",
    "* It looks like diabetic females showed more symptoms than male diabetic patients"
   ]
  },
  {
   "cell_type": "code",
   "execution_count": 39,
   "id": "ab7cfa6d",
   "metadata": {},
   "outputs": [
    {
     "data": {
      "image/png": "[encoded data removed]",
      "text/plain": [
       "<Figure size 1512x504 with 3 Axes>"
      ]
     },
     "metadata": {
      "needs_background": "light"
     },
     "output_type": "display_data"
    }
   ],
   "source": [
    "bivariate_countplot(df, ['polyuria', 'polydipsia', 'sudden_weight_loss'], 'class')"
   ]
  },
  {
   "cell_type": "markdown",
   "id": "ee25d5fd",
   "metadata": {},
   "source": [
    "**Inisghts :**\n",
    "* All Of the symptoms were suffered by diabetic patients, our machine learning models will be able to pickup on these trends too."
   ]
  },
  {
   "cell_type": "code",
   "execution_count": 41,
   "id": "24e1461a",
   "metadata": {},
   "outputs": [
    {
     "data": {
      "image/png": "[encoded data removed]",
      "text/plain": [
       "<Figure size 1512x504 with 3 Axes>"
      ]
     },
     "metadata": {
      "needs_background": "light"
     },
     "output_type": "display_data"
    }
   ],
   "source": [
    "bivariate_countplot(df, ['itching', 'irritability', 'muscle_stiffness'], 'class')"
   ]
  },
  {
   "cell_type": "markdown",
   "id": "c1202e5e",
   "metadata": {},
   "source": [
    "**Insights :** \n",
    "* These are all symptoms which were experienced by both the classes (diabetic and non diabetic) which means these symptoms are probably not good differentiators when it comes to diabetes."
   ]
  },
  {
   "cell_type": "markdown",
   "id": "1fa80c59",
   "metadata": {},
   "source": [
    "# Preprocessing"
   ]
  },
  {
   "cell_type": "code",
   "execution_count": 59,
   "id": "68e80e81",
   "metadata": {},
   "outputs": [],
   "source": [
    "df.gender.replace({'Male' : 1, 'Female' : 0}, inplace = True)"
   ]
  },
  {
   "cell_type": "code",
   "execution_count": 60,
   "id": "dbcb44d9",
   "metadata": {},
   "outputs": [],
   "source": [
    "from sklearn.model_selection import train_test_split\n",
    "X = df.drop('class', axis = 1)\n",
    "Y = df['class']\n",
    "Xtrain, Xtest, Ytrain, Ytest = train_test_split(X, Y, test_size = 0.25)"
   ]
  },
  {
   "cell_type": "code",
   "execution_count": 62,
   "id": "c6a3bf7a",
   "metadata": {},
   "outputs": [],
   "source": [
    "from sklearn.preprocessing import StandardScaler\n",
    "sc = StandardScaler()\n",
    "Xtrain_scaled = sc.fit_transform(Xtrain)\n",
    "Xtest_scaled = sc.transform(Xtest)"
   ]
  },
  {
   "cell_type": "markdown",
   "id": "9e593c1a",
   "metadata": {},
   "source": [
    "# Machine learning models"
   ]
  },
  {
   "cell_type": "markdown",
   "id": "3d206e47",
   "metadata": {},
   "source": [
    "### SVM"
   ]
  },
  {
   "cell_type": "code",
   "execution_count": 63,
   "id": "efffc853",
   "metadata": {},
   "outputs": [],
   "source": [
    "from sklearn.svm import SVC\n",
    "svc = SVC()\n",
    "svc.fit(Xtrain, Ytrain)\n",
    "Ypred = svc.predict(Xtest)"
   ]
  },
  {
   "cell_type": "code",
   "execution_count": 64,
   "id": "e919b27f",
   "metadata": {},
   "outputs": [
    {
     "name": "stdout",
     "output_type": "stream",
     "text": [
      "              precision    recall  f1-score   support\n",
      "\n",
      "           0       0.00      0.00      0.00        53\n",
      "           1       0.59      1.00      0.74        77\n",
      "\n",
      "    accuracy                           0.59       130\n",
      "   macro avg       0.30      0.50      0.37       130\n",
      "weighted avg       0.35      0.59      0.44       130\n",
      "\n"
     ]
    }
   ],
   "source": [
    "from sklearn.metrics import classification_report\n",
    "\n",
    "print(classification_report(Ytest, Ypred))"
   ]
  },
  {
   "cell_type": "markdown",
   "id": "b7153954",
   "metadata": {},
   "source": [
    "* Here we can see that a **support vector machine** model **failed to even acknowledge the negative class** and hence it has a very **low accuracy of 59%**."
   ]
  },
  {
   "cell_type": "markdown",
   "id": "bc1f7c2d",
   "metadata": {},
   "source": [
    "### Decision Trees"
   ]
  },
  {
   "cell_type": "code",
   "execution_count": 66,
   "id": "2ff2d526",
   "metadata": {},
   "outputs": [],
   "source": [
    "from sklearn.tree import DecisionTreeClassifier\n",
    "dtc = DecisionTreeClassifier()\n",
    "dtc.fit(Xtrain, Ytrain)\n",
    "Ypred = dtc.predict(Xtest)"
   ]
  },
  {
   "cell_type": "code",
   "execution_count": 67,
   "id": "b9aff089",
   "metadata": {},
   "outputs": [
    {
     "name": "stdout",
     "output_type": "stream",
     "text": [
      "              precision    recall  f1-score   support\n",
      "\n",
      "           0       0.96      0.91      0.93        53\n",
      "           1       0.94      0.97      0.96        77\n",
      "\n",
      "    accuracy                           0.95       130\n",
      "   macro avg       0.95      0.94      0.94       130\n",
      "weighted avg       0.95      0.95      0.95       130\n",
      "\n"
     ]
    }
   ],
   "source": [
    "print(classification_report(Ytest, Ypred))"
   ]
  },
  {
   "cell_type": "markdown",
   "id": "9d0d18fe",
   "metadata": {},
   "source": [
    "* We can see from the classification report that the **decision tree** model was able to predict both the classes with **95% accuracy**."
   ]
  },
  {
   "cell_type": "markdown",
   "id": "4f875952",
   "metadata": {},
   "source": [
    "# Random Forest"
   ]
  },
  {
   "cell_type": "code",
   "execution_count": 68,
   "id": "b93d1d0f",
   "metadata": {},
   "outputs": [],
   "source": [
    "from sklearn.ensemble import RandomForestClassifier\n",
    "rfc = RandomForestClassifier()\n",
    "rfc.fit(Xtrain, Ytrain)\n",
    "Ypred = rfc.predict(Xtest)"
   ]
  },
  {
   "cell_type": "code",
   "execution_count": 69,
   "id": "70d72072",
   "metadata": {},
   "outputs": [
    {
     "name": "stdout",
     "output_type": "stream",
     "text": [
      "              precision    recall  f1-score   support\n",
      "\n",
      "           0       1.00      0.94      0.97        53\n",
      "           1       0.96      1.00      0.98        77\n",
      "\n",
      "    accuracy                           0.98       130\n",
      "   macro avg       0.98      0.97      0.98       130\n",
      "weighted avg       0.98      0.98      0.98       130\n",
      "\n"
     ]
    }
   ],
   "source": [
    "print(classification_report(Ytest, Ypred))"
   ]
  },
  {
   "cell_type": "markdown",
   "id": "4b5109a1",
   "metadata": {},
   "source": [
    "* We can see here that the random forest model has performed the best out of all the models, with an accuracy of 98%.\n",
    "* Hence we will use this random forest model for any further predictions"
   ]
  },
  {
   "cell_type": "code",
   "execution_count": 73,
   "id": "8d2eb07f",
   "metadata": {},
   "outputs": [],
   "source": [
    "import pickle\n",
    "\n",
    "file = open('prediction.pkl', 'wb')\n",
    "\n",
    "pickle.dump(rfc, file)"
   ]
  }
 ],
 "metadata": {
  "kernelspec": {
   "display_name": "Python 3 (ipykernel)",
   "language": "python",
   "name": "python3"
  },
  "language_info": {
   "codemirror_mode": {
    "name": "ipython",
    "version": 3
   },
   "file_extension": ".py",
   "mimetype": "text/x-python",
   "name": "python",
   "nbconvert_exporter": "python",
   "pygments_lexer": "ipython3",
   "version": "3.9.6"
  }
 },
 "nbformat": 4,
 "nbformat_minor": 5
}
