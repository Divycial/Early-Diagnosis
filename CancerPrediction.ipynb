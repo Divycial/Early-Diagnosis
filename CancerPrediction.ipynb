{
 "cells": [
  {
   "cell_type": "markdown",
   "id": "f29d597f",
   "metadata": {},
   "source": [
    "# Importing Required Libraries"
   ]
  },
  {
   "cell_type": "code",
   "execution_count": 1,
   "id": "212829dc",
   "metadata": {},
   "outputs": [],
   "source": [
    "import pandas as pd\n",
    "import numpy as np\n",
    "import matplotlib.pyplot as plt\n",
    "import seaborn as sns\n",
    "import warnings\n",
    "warnings.filterwarnings('ignore')\n",
    "%matplotlib inline"
   ]
  },
  {
   "cell_type": "markdown",
   "id": "98ec7267",
   "metadata": {},
   "source": [
    "# Reading Data"
   ]
  },
  {
   "cell_type": "code",
   "execution_count": 2,
   "id": "06b2cb72",
   "metadata": {},
   "outputs": [],
   "source": [
    "df = pd.read_excel(\"cancer_patients.xlsx\", sheet_name = \"Sheet1\")"
   ]
  },
  {
   "cell_type": "code",
   "execution_count": 3,
   "id": "d62969a1",
   "metadata": {},
   "outputs": [
    {
     "data": {
      "text/html": [
       "<div>\n",
       "<style scoped>\n",
       "    .dataframe tbody tr th:only-of-type {\n",
       "        vertical-align: middle;\n",
       "    }\n",
       "\n",
       "    .dataframe tbody tr th {\n",
       "        vertical-align: top;\n",
       "    }\n",
       "\n",
       "    .dataframe thead th {\n",
       "        text-align: right;\n",
       "    }\n",
       "</style>\n",
       "<table border=\"1\" class=\"dataframe\">\n",
       "  <thead>\n",
       "    <tr style=\"text-align: right;\">\n",
       "      <th></th>\n",
       "      <th>Patient Id</th>\n",
       "      <th>Age</th>\n",
       "      <th>Gender</th>\n",
       "      <th>Air Pollution</th>\n",
       "      <th>Alcohol use</th>\n",
       "      <th>Dust Allergy</th>\n",
       "      <th>OccuPational Hazards</th>\n",
       "      <th>Genetic Risk</th>\n",
       "      <th>chronic Lung Disease</th>\n",
       "      <th>Balanced Diet</th>\n",
       "      <th>...</th>\n",
       "      <th>Fatigue</th>\n",
       "      <th>Weight Loss</th>\n",
       "      <th>Shortness of Breath</th>\n",
       "      <th>Wheezing</th>\n",
       "      <th>Swallowing Difficulty</th>\n",
       "      <th>Clubbing of Finger Nails</th>\n",
       "      <th>Frequent Cold</th>\n",
       "      <th>Dry Cough</th>\n",
       "      <th>Snoring</th>\n",
       "      <th>Level</th>\n",
       "    </tr>\n",
       "  </thead>\n",
       "  <tbody>\n",
       "    <tr>\n",
       "      <th>0</th>\n",
       "      <td>P1</td>\n",
       "      <td>33</td>\n",
       "      <td>1</td>\n",
       "      <td>2</td>\n",
       "      <td>4</td>\n",
       "      <td>5</td>\n",
       "      <td>4</td>\n",
       "      <td>3</td>\n",
       "      <td>2</td>\n",
       "      <td>2</td>\n",
       "      <td>...</td>\n",
       "      <td>3</td>\n",
       "      <td>4</td>\n",
       "      <td>2</td>\n",
       "      <td>2</td>\n",
       "      <td>3</td>\n",
       "      <td>1</td>\n",
       "      <td>2</td>\n",
       "      <td>3</td>\n",
       "      <td>4</td>\n",
       "      <td>Low</td>\n",
       "    </tr>\n",
       "    <tr>\n",
       "      <th>1</th>\n",
       "      <td>P10</td>\n",
       "      <td>17</td>\n",
       "      <td>1</td>\n",
       "      <td>3</td>\n",
       "      <td>1</td>\n",
       "      <td>5</td>\n",
       "      <td>3</td>\n",
       "      <td>4</td>\n",
       "      <td>2</td>\n",
       "      <td>2</td>\n",
       "      <td>...</td>\n",
       "      <td>1</td>\n",
       "      <td>3</td>\n",
       "      <td>7</td>\n",
       "      <td>8</td>\n",
       "      <td>6</td>\n",
       "      <td>2</td>\n",
       "      <td>1</td>\n",
       "      <td>7</td>\n",
       "      <td>2</td>\n",
       "      <td>Medium</td>\n",
       "    </tr>\n",
       "    <tr>\n",
       "      <th>2</th>\n",
       "      <td>P100</td>\n",
       "      <td>35</td>\n",
       "      <td>1</td>\n",
       "      <td>4</td>\n",
       "      <td>5</td>\n",
       "      <td>6</td>\n",
       "      <td>5</td>\n",
       "      <td>5</td>\n",
       "      <td>4</td>\n",
       "      <td>6</td>\n",
       "      <td>...</td>\n",
       "      <td>8</td>\n",
       "      <td>7</td>\n",
       "      <td>9</td>\n",
       "      <td>2</td>\n",
       "      <td>1</td>\n",
       "      <td>4</td>\n",
       "      <td>6</td>\n",
       "      <td>7</td>\n",
       "      <td>2</td>\n",
       "      <td>High</td>\n",
       "    </tr>\n",
       "    <tr>\n",
       "      <th>3</th>\n",
       "      <td>P1000</td>\n",
       "      <td>37</td>\n",
       "      <td>1</td>\n",
       "      <td>7</td>\n",
       "      <td>7</td>\n",
       "      <td>7</td>\n",
       "      <td>7</td>\n",
       "      <td>6</td>\n",
       "      <td>7</td>\n",
       "      <td>7</td>\n",
       "      <td>...</td>\n",
       "      <td>4</td>\n",
       "      <td>2</td>\n",
       "      <td>3</td>\n",
       "      <td>1</td>\n",
       "      <td>4</td>\n",
       "      <td>5</td>\n",
       "      <td>6</td>\n",
       "      <td>7</td>\n",
       "      <td>5</td>\n",
       "      <td>High</td>\n",
       "    </tr>\n",
       "    <tr>\n",
       "      <th>4</th>\n",
       "      <td>P101</td>\n",
       "      <td>46</td>\n",
       "      <td>1</td>\n",
       "      <td>6</td>\n",
       "      <td>8</td>\n",
       "      <td>7</td>\n",
       "      <td>7</td>\n",
       "      <td>7</td>\n",
       "      <td>6</td>\n",
       "      <td>7</td>\n",
       "      <td>...</td>\n",
       "      <td>3</td>\n",
       "      <td>2</td>\n",
       "      <td>4</td>\n",
       "      <td>1</td>\n",
       "      <td>4</td>\n",
       "      <td>2</td>\n",
       "      <td>4</td>\n",
       "      <td>2</td>\n",
       "      <td>3</td>\n",
       "      <td>High</td>\n",
       "    </tr>\n",
       "  </tbody>\n",
       "</table>\n",
       "<p>5 rows × 25 columns</p>\n",
       "</div>"
      ],
      "text/plain": [
       "  Patient Id  Age  Gender  Air Pollution  Alcohol use  Dust Allergy  \\\n",
       "0         P1   33       1              2            4             5   \n",
       "1        P10   17       1              3            1             5   \n",
       "2       P100   35       1              4            5             6   \n",
       "3      P1000   37       1              7            7             7   \n",
       "4       P101   46       1              6            8             7   \n",
       "\n",
       "   OccuPational Hazards  Genetic Risk  chronic Lung Disease  Balanced Diet  \\\n",
       "0                     4             3                     2              2   \n",
       "1                     3             4                     2              2   \n",
       "2                     5             5                     4              6   \n",
       "3                     7             6                     7              7   \n",
       "4                     7             7                     6              7   \n",
       "\n",
       "   ...  Fatigue  Weight Loss  Shortness of Breath  Wheezing  \\\n",
       "0  ...        3            4                    2         2   \n",
       "1  ...        1            3                    7         8   \n",
       "2  ...        8            7                    9         2   \n",
       "3  ...        4            2                    3         1   \n",
       "4  ...        3            2                    4         1   \n",
       "\n",
       "   Swallowing Difficulty  Clubbing of Finger Nails  Frequent Cold  Dry Cough  \\\n",
       "0                      3                         1              2          3   \n",
       "1                      6                         2              1          7   \n",
       "2                      1                         4              6          7   \n",
       "3                      4                         5              6          7   \n",
       "4                      4                         2              4          2   \n",
       "\n",
       "   Snoring   Level  \n",
       "0        4     Low  \n",
       "1        2  Medium  \n",
       "2        2    High  \n",
       "3        5    High  \n",
       "4        3    High  \n",
       "\n",
       "[5 rows x 25 columns]"
      ]
     },
     "execution_count": 3,
     "metadata": {},
     "output_type": "execute_result"
    }
   ],
   "source": [
    "df.head()"
   ]
  },
  {
   "cell_type": "markdown",
   "id": "73351738",
   "metadata": {},
   "source": [
    "**This Dataset contains 23 features in total (excluding patient id and target variable)**<br>\n",
    "* It has features like air pllution exposure, dust allergy severeness, Genetic Risks etc.<br>\n",
    "* From the metadata found on **data.world** we could see that only the age variable is a continuous variable, while the rest of the features are discrete numerical variables, and also 1 categorical variable that is our target variable i.e. level"
   ]
  },
  {
   "cell_type": "code",
   "execution_count": 4,
   "id": "7fcc35c1",
   "metadata": {},
   "outputs": [
    {
     "data": {
      "text/plain": [
       "(1000, 25)"
      ]
     },
     "execution_count": 4,
     "metadata": {},
     "output_type": "execute_result"
    }
   ],
   "source": [
    "df.shape"
   ]
  },
  {
   "cell_type": "markdown",
   "id": "c0b82fcc",
   "metadata": {},
   "source": [
    "**This dataset contains a total of 1000 unique records of patients**"
   ]
  },
  {
   "cell_type": "code",
   "execution_count": 5,
   "id": "aa506d2c",
   "metadata": {},
   "outputs": [
    {
     "data": {
      "text/plain": [
       "Patient Id                  0\n",
       "Age                         0\n",
       "Gender                      0\n",
       "Air Pollution               0\n",
       "Alcohol use                 0\n",
       "Dust Allergy                0\n",
       "OccuPational Hazards        0\n",
       "Genetic Risk                0\n",
       "chronic Lung Disease        0\n",
       "Balanced Diet               0\n",
       "Obesity                     0\n",
       "Smoking                     0\n",
       "Passive Smoker              0\n",
       "Chest Pain                  0\n",
       "Coughing of Blood           0\n",
       "Fatigue                     0\n",
       "Weight Loss                 0\n",
       "Shortness of Breath         0\n",
       "Wheezing                    0\n",
       "Swallowing Difficulty       0\n",
       "Clubbing of Finger Nails    0\n",
       "Frequent Cold               0\n",
       "Dry Cough                   0\n",
       "Snoring                     0\n",
       "Level                       0\n",
       "dtype: int64"
      ]
     },
     "execution_count": 5,
     "metadata": {},
     "output_type": "execute_result"
    }
   ],
   "source": [
    "df.isnull().sum()"
   ]
  },
  {
   "cell_type": "markdown",
   "id": "e271c840",
   "metadata": {},
   "source": [
    "**There are no missing values in the data set**"
   ]
  },
  {
   "cell_type": "code",
   "execution_count": 6,
   "id": "5c4e8cef",
   "metadata": {},
   "outputs": [
    {
     "data": {
      "text/plain": [
       "Patient Id                  object\n",
       "Age                          int64\n",
       "Gender                       int64\n",
       "Air Pollution                int64\n",
       "Alcohol use                  int64\n",
       "Dust Allergy                 int64\n",
       "OccuPational Hazards         int64\n",
       "Genetic Risk                 int64\n",
       "chronic Lung Disease         int64\n",
       "Balanced Diet                int64\n",
       "Obesity                      int64\n",
       "Smoking                      int64\n",
       "Passive Smoker               int64\n",
       "Chest Pain                   int64\n",
       "Coughing of Blood            int64\n",
       "Fatigue                      int64\n",
       "Weight Loss                  int64\n",
       "Shortness of Breath          int64\n",
       "Wheezing                     int64\n",
       "Swallowing Difficulty        int64\n",
       "Clubbing of Finger Nails     int64\n",
       "Frequent Cold                int64\n",
       "Dry Cough                    int64\n",
       "Snoring                      int64\n",
       "Level                       object\n",
       "dtype: object"
      ]
     },
     "execution_count": 6,
     "metadata": {},
     "output_type": "execute_result"
    }
   ],
   "source": [
    "df.dtypes"
   ]
  },
  {
   "cell_type": "markdown",
   "id": "01b4d09e",
   "metadata": {},
   "source": [
    "**The data types of all the columns are correct**"
   ]
  },
  {
   "cell_type": "markdown",
   "id": "87f45ccf",
   "metadata": {},
   "source": [
    "**Let us now clean the dataset a little and move to Exploratory Data Analysis**"
   ]
  },
  {
   "cell_type": "code",
   "execution_count": 7,
   "id": "b9edac26",
   "metadata": {},
   "outputs": [],
   "source": [
    "df.rename(columns = {'Patient Id' : 'p_id' , 'Age' : 'age', 'Gender' : 'gender', 'Air Pollution' :'air_poll' , \n",
    "                     'Alcohol use' : 'alc_use','Dust Allergy' : 'dust_al', 'OccuPational Hazards': 'occ_hazard', \n",
    "                     'Genetic Risk' : 'gen_risk','chronic Lung Disease': 'lung_disease', 'Balanced Diet': 'balanced_diet', \n",
    "                     'Obesity' : 'obesity', 'Smoking' : 'smoking', 'Passive Smoker' : 'passive_smoker', 'Chest Pain' : 'chest_pain',\n",
    "                     'Coughing of Blood' : 'cough_blood', 'Fatigue' : 'fatigue','Weight Loss' : 'weight_loss', \n",
    "                     'Shortness of Breath' : 'short_breath', 'Wheezing' : 'wheezing','Swallowing Difficulty' : 'swallowing_difficulty',\n",
    "                     'Clubbing of Finger Nails' : 'clubbing_nails', 'Frequent Cold' : 'frequent_cold','Dry Cough' : 'dry_cough', \n",
    "                     'Snoring' : 'snoring', 'Level' : 'level'}, inplace = True)"
   ]
  },
  {
   "cell_type": "markdown",
   "id": "bc3a4753",
   "metadata": {},
   "source": [
    "# Exploratory Data Analysis"
   ]
  },
  {
   "cell_type": "markdown",
   "id": "832320e7",
   "metadata": {},
   "source": [
    "### Univariate analysis"
   ]
  },
  {
   "cell_type": "code",
   "execution_count": 8,
   "id": "d12dbadf",
   "metadata": {},
   "outputs": [],
   "source": [
    "def univariate_kde(df, column):\n",
    "    '''\n",
    "    Calculates the descriptives and displays a kdeplot to observe distribution of data.\n",
    "    '''\n",
    "    plt.figure(figsize = (7 , 5))\n",
    "    \n",
    "    # Descriptives\n",
    "    mini = df[column].min()\n",
    "    maxi = df[column].max()\n",
    "    mean = df[column].mean()\n",
    "    std = df[column].std()\n",
    "    std_points = (mean - std, mean + std)\n",
    "    ran = (mini, maxi)\n",
    "    \n",
    "    #plot\n",
    "    sns.kdeplot(df[column],shade = True, label = 'distribution')\n",
    "    sns.lineplot(std_points, [0, 0],linewidth = 3, color = 'black',label = 'std_dev')\n",
    "    sns.scatterplot(mean, [0], label = 'mean', s = 75)\n",
    "    sns.scatterplot(mini, [0], label = 'min', s = 75)\n",
    "    plt.xlabel('{}'.format(column))\n",
    "    plt.ylabel('Count')\n",
    "    plt.title('mean = {}, range = {};\\nstd_dev = {};'.format(round(mean, 2), (round(ran[0], 2), round(ran[1], 2)),\n",
    "                                                            (round(std_points[0], 2), round(std_points[1], 2))))"
   ]
  },
  {
   "cell_type": "code",
   "execution_count": 9,
   "id": "c7a78363",
   "metadata": {},
   "outputs": [],
   "source": [
    "def univariate_countplot(df, columns):\n",
    "    '''\n",
    "    Displays the descriptives and also the barplot of discrete variables\n",
    "    '''\n",
    "    size = len(columns)\n",
    "    plt.figure(figsize = (size * 7, 5))\n",
    "    for i, column in enumerate(columns):\n",
    "        # Descriptives\n",
    "        mini = df[column].min()\n",
    "        maxi = df[column].max()\n",
    "        mean = df[column].mean()\n",
    "        std = df[column].std()\n",
    "        std_points = (mean - std, mean + std)\n",
    "        ran = (mini, maxi)\n",
    "    \n",
    "        #plot\n",
    "    \n",
    "        plt.subplot(1, size, i + 1)\n",
    "        sns.countplot(df[column])\n",
    "        plt.xlabel('{}'.format(column))\n",
    "        plt.ylabel('Count')\n",
    "        plt.title('mean = {}, range = {};\\nstd_dev = {};'.format(round(mean, 2), (round(ran[0], 2), round(ran[1], 2)),\n",
    "                                                            (round(std_points[0], 2), round(std_points[1], 2))))\n",
    "    return plt.show()\n",
    "    "
   ]
  },
  {
   "cell_type": "code",
   "execution_count": 10,
   "id": "d163d3c7",
   "metadata": {},
   "outputs": [
    {
     "data": {
      "image/png": "[encoded data removed]",
      "text/plain": [
       "<Figure size 504x360 with 1 Axes>"
      ]
     },
     "metadata": {
      "needs_background": "light"
     },
     "output_type": "display_data"
    }
   ],
   "source": [
    "univariate_kde(df, 'age')"
   ]
  },
  {
   "cell_type": "markdown",
   "id": "548d4011",
   "metadata": {},
   "source": [
    "**Insights :**\n",
    "* The mean age of patients is 37 years.\n",
    "* The youngest patient in our dataset is 14 years old, while the oldest person is 73.\n",
    "* The range of ages included in the first standard deviation is 25 to 49 years."
   ]
  },
  {
   "cell_type": "code",
   "execution_count": 11,
   "id": "cae84303",
   "metadata": {},
   "outputs": [
    {
     "data": {
      "image/png": "[encoded data removed]",
      "text/plain": [
       "<Figure size 1512x360 with 3 Axes>"
      ]
     },
     "metadata": {
      "needs_background": "light"
     },
     "output_type": "display_data"
    }
   ],
   "source": [
    "univariate_countplot(df, ['air_poll', 'alc_use', 'dust_al'])"
   ]
  },
  {
   "cell_type": "markdown",
   "id": "d20737e4",
   "metadata": {},
   "source": [
    "**Insights :**\n",
    "* More people are exposed to level 6 air pollution.\n",
    "* The mean is between 3 and 4 level of air pollution.\n",
    "* Many people drink alcohol frequently as is evident by the mean if 4.5 alcohol use.\n",
    "* A lot of people are allergic to dust, as we can see in the third graph."
   ]
  },
  {
   "cell_type": "code",
   "execution_count": 12,
   "id": "91aeba53",
   "metadata": {},
   "outputs": [
    {
     "data": {
      "image/png": "[encoded data removed]",
      "text/plain": [
       "<Figure size 1512x360 with 3 Axes>"
      ]
     },
     "metadata": {
      "needs_background": "light"
     },
     "output_type": "display_data"
    }
   ],
   "source": [
    "univariate_countplot(df, ['occ_hazard','gen_risk', 'lung_disease'])"
   ]
  },
  {
   "cell_type": "markdown",
   "id": "12d07447",
   "metadata": {},
   "source": [
    "**Insights :**\n",
    "* A lot of people are working in hazardous conditions, as we can see that the peak number is 7, and aslo the average is almost 5\n",
    "* Many people are at a higher level of genetic risk of getting cancer as well.\n",
    "* Many people suffer from chronic lung diseases"
   ]
  },
  {
   "cell_type": "code",
   "execution_count": 13,
   "id": "f1c7da89",
   "metadata": {},
   "outputs": [
    {
     "data": {
      "image/png": "[encoded data removed]",
      "text/plain": [
       "<Figure size 1512x360 with 3 Axes>"
      ]
     },
     "metadata": {
      "needs_background": "light"
     },
     "output_type": "display_data"
    }
   ],
   "source": [
    "univariate_countplot(df, ['balanced_diet', 'obesity', 'smoking'])"
   ]
  },
  {
   "cell_type": "markdown",
   "id": "011589cc",
   "metadata": {},
   "source": [
    "**Insights :**\n",
    "* A lot of people have a balanced diet, with the average being = 4.5\n",
    "* Many people suffer from obesity.\n",
    "* There are people with pretty low level of smoking but there are some with high smoking as well"
   ]
  },
  {
   "cell_type": "code",
   "execution_count": 14,
   "id": "cd8d4cb8",
   "metadata": {},
   "outputs": [
    {
     "data": {
      "image/png": "[encoded data removed]",
      "text/plain": [
       "<Figure size 1512x360 with 3 Axes>"
      ]
     },
     "metadata": {
      "needs_background": "light"
     },
     "output_type": "display_data"
    }
   ],
   "source": [
    "univariate_countplot(df, ['passive_smoker', 'chest_pain', 'cough_blood'])"
   ]
  },
  {
   "cell_type": "markdown",
   "id": "6083536f",
   "metadata": {},
   "source": [
    "**Insights :**\n",
    "* The peak of passive smoking is at 2 which means they aren't around smoke often, but the mean is 4.2 which means there are some people in the sample who are at high levels of passive smoking\n",
    "* A lot of people experience chest pain, as we can see from the peek that is at 7.\n",
    "* Many people seem to be coughing blood as we can see from the peek which is at 7, while the average is at around 5."
   ]
  },
  {
   "cell_type": "code",
   "execution_count": 15,
   "id": "cb6c1375",
   "metadata": {},
   "outputs": [
    {
     "data": {
      "text/plain": [
       "<AxesSubplot:xlabel='level', ylabel='count'>"
      ]
     },
     "execution_count": 15,
     "metadata": {},
     "output_type": "execute_result"
    },
    {
     "data": {
      "image/png": "[encoded data removed]",
      "text/plain": [
       "<Figure size 432x288 with 1 Axes>"
      ]
     },
     "metadata": {
      "needs_background": "light"
     },
     "output_type": "display_data"
    }
   ],
   "source": [
    "sns.countplot('level', data = df)"
   ]
  },
  {
   "cell_type": "markdown",
   "id": "29ae2eea",
   "metadata": {},
   "source": [
    "**Insights :**\n",
    "* The dataset is pretty much balanced , with the number of patients in all classes being very close between 300 and 350"
   ]
  },
  {
   "cell_type": "markdown",
   "id": "e9ea0a13",
   "metadata": {},
   "source": [
    "### Bivariate Analysis"
   ]
  },
  {
   "cell_type": "code",
   "execution_count": 16,
   "id": "04c9bd3b",
   "metadata": {},
   "outputs": [],
   "source": [
    "def bivariate_countplot(df, x_var, hue_var):\n",
    "    '''\n",
    "    df -> data\n",
    "    x_var -> discrete value\n",
    "    hue_var -> categorical variable\n",
    "    '''\n",
    "    size = len(x_var)\n",
    "    plt.figure(figsize = (size * 7, 7))\n",
    "    for i, x in enumerate(x_var):\n",
    "        plt.subplot(1, size, i + 1)\n",
    "        sns.countplot(x, hue = hue_var, data = df)\n",
    "        "
   ]
  },
  {
   "cell_type": "code",
   "execution_count": 17,
   "id": "77067a08",
   "metadata": {},
   "outputs": [
    {
     "data": {
      "image/png": "[encoded data removed]",
      "text/plain": [
       "<Figure size 1512x504 with 3 Axes>"
      ]
     },
     "metadata": {
      "needs_background": "light"
     },
     "output_type": "display_data"
    }
   ],
   "source": [
    "bivariate_countplot(df, ['smoking', 'passive_smoker', 'alc_use'], 'level')"
   ]
  },
  {
   "cell_type": "markdown",
   "id": "6d835f26",
   "metadata": {},
   "source": [
    "**Insights :**\n",
    "* Here we can see that those who smoke more or are passive smokers, they are at higher risks of getting cancer.\n",
    "* The data proves that smoking and alcohol consumption leads to a higher risk of cancer."
   ]
  },
  {
   "cell_type": "code",
   "execution_count": 18,
   "id": "32170e67",
   "metadata": {},
   "outputs": [
    {
     "data": {
      "image/png": "[encoded data removed]",
      "text/plain": [
       "<Figure size 504x504 with 1 Axes>"
      ]
     },
     "metadata": {
      "needs_background": "light"
     },
     "output_type": "display_data"
    }
   ],
   "source": [
    "bivariate_countplot(df, ['gender'], 'level')"
   ]
  },
  {
   "cell_type": "markdown",
   "id": "93467340",
   "metadata": {},
   "source": [
    "**Insights :**\n",
    "* Here we can see that females are at a relatively lower risk of getting cancer.\n",
    "* We will now check why this is the case"
   ]
  },
  {
   "cell_type": "code",
   "execution_count": 19,
   "id": "c3f6f880",
   "metadata": {},
   "outputs": [
    {
     "data": {
      "image/png": "[encoded data removed]",
      "text/plain": [
       "<Figure size 1512x504 with 3 Axes>"
      ]
     },
     "metadata": {
      "needs_background": "light"
     },
     "output_type": "display_data"
    }
   ],
   "source": [
    "bivariate_countplot(df, ['smoking', 'passive_smoker', 'alc_use'], 'gender')"
   ]
  },
  {
   "cell_type": "markdown",
   "id": "95fa25a8",
   "metadata": {},
   "source": [
    "**Insights :**\n",
    "* Here we see that females are much less passive smokers , smokers and alcohol users as compared to men (ACCORDING TO THIS DATASET).\n",
    "* Maybe this is the reason why women are less likely to get cancer as compared to men."
   ]
  },
  {
   "cell_type": "code",
   "execution_count": 20,
   "id": "d1b9a437",
   "metadata": {},
   "outputs": [
    {
     "data": {
      "image/png": "[encoded data removed]",
      "text/plain": [
       "<Figure size 1512x504 with 3 Axes>"
      ]
     },
     "metadata": {
      "needs_background": "light"
     },
     "output_type": "display_data"
    }
   ],
   "source": [
    "bivariate_countplot(df, ['dust_al', 'occ_hazard', 'lung_disease'], 'level')"
   ]
  },
  {
   "cell_type": "markdown",
   "id": "0ee0300f",
   "metadata": {},
   "source": [
    "**Insights :**\n",
    "* Here we can notice a very evident pattern, that people with higher levels of dust alergies, occupational hazards and chronic diseases are at a much higher level of getting cancer."
   ]
  },
  {
   "cell_type": "markdown",
   "id": "53310d54",
   "metadata": {},
   "source": [
    "### SUMMARY OF EDA\n",
    "\n",
    "<hr>\n",
    "\n",
    "* The **mean age** of patients is **37 years**.\n",
    "* More patients are exposed to **level 6 air pollution**.\n",
    "* Many patients **drink alcohol frequently**.\n",
    "* A lot of patients are **allergic** to **dust**.\n",
    "* A lot of patients are working in **hazardous conditions**.\n",
    "* A lot of patients experience chest pain.\n",
    "* Those who smoke more or are passive smokers, they are at higher risks of getting cancer.\n",
    "* From the **visualizations we can prove that smoking and alcohol consumption** leads to a **higher risk of cancer**.\n",
    "* Females are much less passive smokers , smokers and alcohol users as compared to men (ACCORDING TO THIS DATASET).\n",
    "* Patients with higher levels of dust alergies, occupational hazards and chronic diseases are at a much higher risk of getting cancer.\n",
    "\n",
    "<hr>"
   ]
  },
  {
   "cell_type": "markdown",
   "id": "a6599edb",
   "metadata": {},
   "source": [
    "## Preprocessing"
   ]
  },
  {
   "cell_type": "code",
   "execution_count": 37,
   "id": "4b8ea239",
   "metadata": {},
   "outputs": [],
   "source": [
    "from sklearn.model_selection import train_test_split\n",
    "X = df.drop(['level', 'p_id'], axis = 1)\n",
    "Y = df['level']\n",
    "Xtrain, Xtest, Ytrain, Ytest = train_test_split(X, Y, test_size = 0.25)"
   ]
  },
  {
   "cell_type": "markdown",
   "id": "f8ab3927",
   "metadata": {},
   "source": [
    "* Here we have split the data into training and testing set"
   ]
  },
  {
   "cell_type": "code",
   "execution_count": 38,
   "id": "fef18c01",
   "metadata": {},
   "outputs": [],
   "source": [
    "from sklearn.preprocessing import StandardScaler\n",
    "sc = StandardScaler()\n",
    "Xtrain_scaled = sc.fit_transform(Xtrain)\n",
    "Xtest_scaled = sc.transform(Xtest)"
   ]
  },
  {
   "cell_type": "markdown",
   "id": "348c7509",
   "metadata": {},
   "source": [
    "* Here we have scaled the data to be between 0 and 1."
   ]
  },
  {
   "cell_type": "markdown",
   "id": "ef0ac4ba",
   "metadata": {},
   "source": [
    "## Machine Learning Model Selection"
   ]
  },
  {
   "cell_type": "markdown",
   "id": "547c19a5",
   "metadata": {},
   "source": [
    "### Support vector machine"
   ]
  },
  {
   "cell_type": "code",
   "execution_count": 39,
   "id": "0d3fcbb5",
   "metadata": {},
   "outputs": [],
   "source": [
    "from sklearn.svm import SVC\n",
    "svc = SVC()\n",
    "svc.fit(Xtrain, Ytrain)\n",
    "Ypred = svc.predict(Xtest)"
   ]
  },
  {
   "cell_type": "code",
   "execution_count": 40,
   "id": "fbb93f4f",
   "metadata": {},
   "outputs": [
    {
     "name": "stdout",
     "output_type": "stream",
     "text": [
      "              precision    recall  f1-score   support\n",
      "\n",
      "        High       0.99      1.00      0.99        85\n",
      "         Low       1.00      0.95      0.98        85\n",
      "      Medium       0.95      0.99      0.97        80\n",
      "\n",
      "    accuracy                           0.98       250\n",
      "   macro avg       0.98      0.98      0.98       250\n",
      "weighted avg       0.98      0.98      0.98       250\n",
      "\n",
      "ACCURACY = : 0.98\n"
     ]
    }
   ],
   "source": [
    "from sklearn.metrics import classification_report, accuracy_score\n",
    "print(classification_report(Ytest, Ypred))\n",
    "print('ACCURACY = :', accuracy_score(Ytest, Ypred))"
   ]
  },
  {
   "cell_type": "markdown",
   "id": "0713dc0c",
   "metadata": {},
   "source": [
    "### Random Forest"
   ]
  },
  {
   "cell_type": "code",
   "execution_count": 41,
   "id": "be81f5a7",
   "metadata": {},
   "outputs": [],
   "source": [
    "from sklearn.ensemble import RandomForestClassifier\n",
    "rfc = RandomForestClassifier()\n",
    "rfc.fit(Xtrain, Ytrain)\n",
    "Ypred = rfc.predict(Xtest)"
   ]
  },
  {
   "cell_type": "code",
   "execution_count": 42,
   "id": "f79bf619",
   "metadata": {},
   "outputs": [
    {
     "name": "stdout",
     "output_type": "stream",
     "text": [
      "              precision    recall  f1-score   support\n",
      "\n",
      "        High       1.00      1.00      1.00        85\n",
      "         Low       1.00      1.00      1.00        85\n",
      "      Medium       1.00      1.00      1.00        80\n",
      "\n",
      "    accuracy                           1.00       250\n",
      "   macro avg       1.00      1.00      1.00       250\n",
      "weighted avg       1.00      1.00      1.00       250\n",
      "\n",
      "ACCURACY = : 1.0\n"
     ]
    }
   ],
   "source": [
    "print(classification_report(Ytest, Ypred))\n",
    "print('ACCURACY = :', accuracy_score(Ytest, Ypred))"
   ]
  },
  {
   "cell_type": "markdown",
   "id": "5c070e71",
   "metadata": {},
   "source": [
    "### Decision Tree"
   ]
  },
  {
   "cell_type": "code",
   "execution_count": 43,
   "id": "c88bfaa6",
   "metadata": {},
   "outputs": [],
   "source": [
    "from sklearn.tree import DecisionTreeClassifier\n",
    "dtc = DecisionTreeClassifier()\n",
    "dtc.fit(Xtrain, Ytrain)\n",
    "Ypred = dtc.predict(Xtest)"
   ]
  },
  {
   "cell_type": "code",
   "execution_count": 44,
   "id": "25248082",
   "metadata": {},
   "outputs": [
    {
     "name": "stdout",
     "output_type": "stream",
     "text": [
      "              precision    recall  f1-score   support\n",
      "\n",
      "        High       1.00      1.00      1.00        85\n",
      "         Low       1.00      1.00      1.00        85\n",
      "      Medium       1.00      1.00      1.00        80\n",
      "\n",
      "    accuracy                           1.00       250\n",
      "   macro avg       1.00      1.00      1.00       250\n",
      "weighted avg       1.00      1.00      1.00       250\n",
      "\n",
      "ACCURACY = 1.0\n"
     ]
    }
   ],
   "source": [
    "from sklearn.metrics import classification_report, accuracy_score\n",
    "print(classification_report(Ytest, Ypred))\n",
    "print('ACCURACY =', accuracy_score(Ytest, Ypred))"
   ]
  },
  {
   "cell_type": "markdown",
   "id": "289177f5",
   "metadata": {},
   "source": [
    "* We can see that all the models perform very good, and the decision tree and random forest models give the highest accuracy so we will use one of these models for further predictions."
   ]
  },
  {
   "cell_type": "code",
   "execution_count": 46,
   "id": "5a8c4d9f",
   "metadata": {},
   "outputs": [],
   "source": [
    "import pickle\n",
    "\n",
    "file = open('prediction.pkl', 'wb')\n",
    "\n",
    "pickle.dump(rfc, file)"
   ]
  }
 ],
 "metadata": {
  "kernelspec": {
   "display_name": "Python 3 (ipykernel)",
   "language": "python",
   "name": "python3"
  },
  "language_info": {
   "codemirror_mode": {
    "name": "ipython",
    "version": 3
   },
   "file_extension": ".py",
   "mimetype": "text/x-python",
   "name": "python",
   "nbconvert_exporter": "python",
   "pygments_lexer": "ipython3",
   "version": "3.9.6"
  }
 },
 "nbformat": 4,
 "nbformat_minor": 5
}
